{
 "metadata": {
  "language_info": {
   "codemirror_mode": {
    "name": "ipython",
    "version": 3
   },
   "file_extension": ".py",
   "mimetype": "text/x-python",
   "name": "python",
   "nbconvert_exporter": "python",
   "pygments_lexer": "ipython3",
   "version": 3
  },
  "orig_nbformat": 2
 },
 "nbformat": 4,
 "nbformat_minor": 2,
 "cells": [
  {
   "cell_type": "code",
   "execution_count": null,
   "metadata": {},
   "outputs": [],
   "source": [
    "from dask.distributed import Client\n",
    "\n",
    "client = Client(\"tcp://127.0.0.1:37841\")\n",
    "client"
   ]
  },
  {
   "cell_type": "code",
   "execution_count": null,
   "metadata": {},
   "outputs": [],
   "source": [
    "conf = {\n",
    "    'bootstrap.servers': 'kafka-cluster-kafka-bootstrap:9092',\n",
    "    'group.id': 'daks-consumers',\n",
    "    'auto.offset.reset': 'earliest',\n",
    "    'enable.auto.commit': 'false'\n",
    "}\n",
    "topic = 'topic4-real'"
   ]
  },
  {
   "cell_type": "code",
   "execution_count": null,
   "metadata": {},
   "outputs": [],
   "source": [
    "import pandas as pd\n",
    "import dask.dataframe as dd\n",
    "\n",
    "from dask_kafka import KafkaReader\n",
    "\n",
    "kr = KafkaReader(client, topic, conf)\n",
    "\n",
    "# read batch from kafka with dask\n",
    "batch_fut = kr.read_batch()\n",
    "\n",
    "# check if it is not empty\n",
    "if len(batch_fut)>0:\n",
    "    # convert results in pandas dataframes (one per worker)\n",
    "    fut_res = [client.submit(pd.DataFrame, b_fut) for b_fut in batch_fut]\n",
    "\n",
    "    # create dask dataframe\n",
    "    df = dd.from_delayed(fut_res).compute()\n",
    "\n",
    "    df.head()"
   ]
  }
 ]
}