{
 "cells": [
  {
   "cell_type": "code",
   "execution_count": 1,
   "metadata": {},
   "outputs": [],
   "source": [
    "import pandas as pd\n",
    "import numpy as np\n",
    "from pyspark.sql import SparkSession\n",
    "from pyspark.sql.functions import *"
   ]
  },
  {
   "cell_type": "code",
   "execution_count": 2,
   "metadata": {},
   "outputs": [],
   "source": [
    "spark = SparkSession.builder.getOrCreate()\n",
    "sc = spark.sparkContext"
   ]
  },
  {
   "cell_type": "code",
   "execution_count": 3,
   "metadata": {},
   "outputs": [],
   "source": [
    "num_words = 128 # Number of hits per message\n",
    "rdd = sc.binaryRecords(\"data/data_000001.dat\", 8*num_words)"
   ]
  },
  {
   "cell_type": "code",
   "execution_count": 4,
   "metadata": {},
   "outputs": [],
   "source": [
    "from pyspark.sql import Row\n",
    "import struct\n",
    "\n",
    "def hit_unpacker(word):\n",
    "    # hit masks\n",
    "    hmaskTDC_MEAS     = 0x1F\n",
    "    hmaskBX_COUNTER   = 0xFFF\n",
    "    hmaskORBIT_CNT    = 0xFFFFFFFF\n",
    "    hmaskTDC_CHANNEL  = 0x1FF\n",
    "    hmaskFPGA         = 0xF\n",
    "    hmaskHEAD         = 0x3\n",
    "\n",
    "    hfirstTDC_MEAS    = 0\n",
    "    hfirstBX_COUNTER  = 5\n",
    "    hfirstORBIT_CNT   = 17\n",
    "    hfirstTDC_CHANNEL = 49\n",
    "    hfirstFPGA        = 58\n",
    "    hfirstHEAD        = 62\n",
    "    \n",
    "    TDC_MEAS     =      (( word >> hfirstTDC_MEAS    ) & hmaskTDC_MEAS   )\n",
    "    BX_COUNTER   =      (( word >> hfirstBX_COUNTER  ) & hmaskBX_COUNTER )\n",
    "    ORBIT_CNT    =      (( word >> hfirstORBIT_CNT   ) & hmaskORBIT_CNT  )\n",
    "    TDC_CHANNEL  =  1 + (( word >> hfirstTDC_CHANNEL ) & hmaskTDC_CHANNEL)\n",
    "    FPGA         =      (( word >> hfirstFPGA        ) & hmaskFPGA       )\n",
    "    HEAD         =      (( word >> hfirstHEAD        ) & hmaskHEAD       )\n",
    "    \n",
    "    if((TDC_CHANNEL!=137) and (TDC_CHANNEL!=138)):\n",
    "            TDC_MEAS -= 1\n",
    "\n",
    "    unpacked  = {\n",
    "        'HEAD': HEAD,\n",
    "        'FPGA': FPGA,\n",
    "        'TDC_CHANNEL': TDC_CHANNEL,\n",
    "        'ORBIT_CNT': ORBIT_CNT,\n",
    "        'BX_COUNTER': BX_COUNTER,\n",
    "        'TDC_MEAS': TDC_MEAS,\n",
    "        'TRG_QUALITY': np.NaN\n",
    "    }\n",
    "    print(unpacked)\n",
    "    return Row(**unpacked)\n",
    "\n",
    "def trigger_unpacker(word):\n",
    "    # Trigger masks\n",
    "    tmaskQUAL    = 0x0000000000000001\n",
    "    tmaskBX      = 0x0000000000001FFE\n",
    "    tmaskTAGBX   = 0x0000000001FFE000\n",
    "    tmaskTAGORB  = 0x01FFFFFFFE000000\n",
    "    tmaskMCELL   = 0x0E00000000000000\n",
    "    tmaskSL      = 0x3000000000000000\n",
    "    tmaskHEAD    = 0xC000000000000000\n",
    "\n",
    "    tfirstQUAL   = 0\n",
    "    tfirstBX     = 1\n",
    "    tfirstTAGBX  = 13\n",
    "    tfirstTAGORB = 25\n",
    "    tfirstMCELL  = 57\n",
    "    tfirstSL     = 60\n",
    "    tfirstHEAD   = 62\n",
    "    \n",
    "    storedTrigHead     = ( word & tmaskHEAD   ) >> tfirstHEAD\n",
    "    storedTrigMiniCh   = ( word & tmaskSL     ) >> tfirstSL\n",
    "    storedTrigMCell    = ( word & tmaskMCELL  ) >> tfirstMCELL\n",
    "    storedTrigTagOrbit = ( word & tmaskTAGORB ) >> tfirstTAGORB\n",
    "    storedTrigTagBX    = ( word & tmaskTAGBX  ) >> tfirstTAGBX\n",
    "    storedTrigBX       = ( word & tmaskBX     ) >> tfirstBX\n",
    "    storedTrigQual     = ( word & tmaskQUAL   ) >> tfirstQUAL\n",
    "    \n",
    "    unpacked = {\n",
    "        'HEAD': storedTrigHead,\n",
    "        'FPGA': storedTrigMiniCh,\n",
    "        'TDC_CHANNEL': storedTrigMCell,\n",
    "        'ORBIT_CNT': storedTrigTagOrbit,\n",
    "        'BX_COUNTER': storedTrigTagBX,\n",
    "        'TDC_MEAS': storedTrigBX,\n",
    "        'TRG_QUALITY': storedTrigQual\n",
    "    }\n",
    "        \n",
    "    return Row(**unpacked)\n",
    "\n",
    "def unpacker(hit):\n",
    "    \n",
    "    word_counter = 0\n",
    "    word_size = 8\n",
    "    \n",
    "    rows = []\n",
    "    \n",
    "    for i in range(0, num_words*word_size, word_size):      \n",
    "        buffer = struct.unpack('<Q', hit[i:i+word_size])[0]\n",
    "        head = (buffer >> 62) & 0x3\n",
    "\n",
    "        if head <= 2:\n",
    "            rows.append(hit_unpacker(buffer))\n",
    "\n",
    "        elif head == 3:\n",
    "            rows.append(trigger_unpacker(buffer))\n",
    "        \n",
    "    return rows"
   ]
  },
  {
   "cell_type": "code",
   "execution_count": 5,
   "metadata": {},
   "outputs": [],
   "source": [
    "unpacked_rdd = rdd.map(lambda hit: unpacker(hit)).flatMap(lambda x: x)\n",
    "spark_df = unpacked_rdd.toDF()\n",
    "spark_df = spark_df.limit(20000).cache() # work on a subset of 20000 message"
   ]
  },
  {
   "cell_type": "code",
   "execution_count": 6,
   "metadata": {},
   "outputs": [],
   "source": [
    "# remove tdc_channel = 139 since they are not physical events\n",
    "spark_df = spark_df.where(col('TDC_CHANNEL')!=139)"
   ]
  },
  {
   "cell_type": "code",
   "execution_count": 7,
   "metadata": {},
   "outputs": [],
   "source": [
    "allhits = spark_df.filter('HEAD == 1').drop('TRG_QUALITY')\n",
    "triggershits = spark_df.filter('HEAD > 2')"
   ]
  },
  {
   "cell_type": "code",
   "execution_count": 8,
   "metadata": {},
   "outputs": [
    {
     "name": "stdout",
     "output_type": "stream",
     "text": [
      "+----------+----+----+---------+-----------+--------+-----------+\n",
      "|BX_COUNTER|FPGA|HEAD|ORBIT_CNT|TDC_CHANNEL|TDC_MEAS|TRG_QUALITY|\n",
      "+----------+----+----+---------+-----------+--------+-----------+\n",
      "|      2465|   0|   3|673213665|          6|    2456|       null|\n",
      "|      2465|   0|   3|673213665|          5|    2456|       null|\n",
      "|      2465|   0|   3|673213665|          4|    4095|       null|\n",
      "|      2465|   0|   3|673213665|          3|    4095|       null|\n",
      "|      2465|   0|   3|673213665|          2|    4095|       null|\n",
      "|      2465|   0|   3|673213665|          1|    4095|       null|\n",
      "|      2465|   0|   3|673213665|          0|    4095|       null|\n",
      "|      2465|   0|   3|673213665|          6|    2459|       null|\n",
      "|      2465|   0|   3|673213665|          5|    2459|       null|\n",
      "|      2465|   0|   3|673213665|          4|    4095|       null|\n",
      "|      2465|   0|   3|673213665|          3|    4095|       null|\n",
      "|      2465|   0|   3|673213665|          2|    4095|       null|\n",
      "|      2465|   0|   3|673213665|          1|    4095|       null|\n",
      "|      2465|   0|   3|673213665|          0|    4095|       null|\n",
      "+----------+----+----+---------+-----------+--------+-----------+\n",
      "\n"
     ]
    }
   ],
   "source": [
    "# Check triggerhits\n",
    "triggershits.where(col('ORBIT_CNT')==673213665).show()"
   ]
  },
  {
   "cell_type": "code",
   "execution_count": 9,
   "metadata": {},
   "outputs": [],
   "source": [
    "# find triggers\n",
    "triggers = triggershits.groupby('ORBIT_CNT')"
   ]
  },
  {
   "cell_type": "code",
   "execution_count": 10,
   "metadata": {},
   "outputs": [],
   "source": [
    "from pyspark.sql.functions import when, col, min\n",
    "\n",
    "# Create T0 column\n",
    "triggers_table = triggers.agg(min('TDC_MEAS').alias('T0'))"
   ]
  },
  {
   "cell_type": "code",
   "execution_count": 11,
   "metadata": {},
   "outputs": [
    {
     "name": "stdout",
     "output_type": "stream",
     "text": [
      "+---------+----------+----+----+-----------+--------+----+\n",
      "|ORBIT_CNT|BX_COUNTER|FPGA|HEAD|TDC_CHANNEL|TDC_MEAS|  T0|\n",
      "+---------+----------+----+----+-----------+--------+----+\n",
      "|673213665|      2457|   0|   1|         45|      22|2456|\n",
      "|673213665|      2456|   0|   1|         67|      24|2456|\n",
      "|673213665|      2464|   0|   1|         66|      17|2456|\n",
      "|673213665|      2463|   0|   1|         68|      18|2456|\n",
      "|673213665|      2463|   0|   1|         47|      16|2456|\n",
      "|673213665|      2468|   0|   1|         50|      21|2456|\n",
      "|673213665|      2468|   0|   1|         69|      27|2456|\n",
      "|673213665|      2465|   0|   1|         48|      27|2456|\n",
      "|673213781|       333|   0|   1|         21|       0|1772|\n",
      "|673213781|      1777|   0|   1|        123|      23|1772|\n",
      "|673213781|      1774|   0|   1|         12|      12|1772|\n",
      "|673213781|      1778|   0|   1|         13|      15|1772|\n",
      "|673213781|      1777|   0|   1|        124|      24|1772|\n",
      "|673213781|      1785|   0|   1|         11|       0|1772|\n",
      "|673213781|      1782|   0|   1|        121|       7|1772|\n",
      "|673213781|      1781|   0|   1|         14|      23|1772|\n",
      "|673213810|      2313|   0|   1|         24|       9|2309|\n",
      "|673213810|      2312|   0|   1|         66|      13|2309|\n",
      "|673213810|      2312|   0|   1|         26|      23|2309|\n",
      "|673213810|      2314|   0|   1|         67|       2|2309|\n",
      "+---------+----------+----+----+-----------+--------+----+\n",
      "only showing top 20 rows\n",
      "\n"
     ]
    }
   ],
   "source": [
    "hits = allhits.join(triggers_table, on='ORBIT_CNT')\n",
    "hits.show()"
   ]
  },
  {
   "cell_type": "code",
   "execution_count": 12,
   "metadata": {},
   "outputs": [],
   "source": [
    "## Parameters\n",
    "\n",
    "DURATION = {                         \n",
    "    'orbit:bx': 3564,\n",
    "    'orbit': 3564*25,\n",
    "    'bx': 25.,\n",
    "    'tdc': 25./30\n",
    "}\n",
    "\n",
    "TIME_WINDOW = (-50, 500)\n",
    "\n",
    "### Chamber configuration\n",
    "NCHANNELS  = 64    # channels per SL\n",
    "NSL        = 4     # number of SL\n",
    "### Cell parameters\n",
    "XCELL     = 42.                      # cell width in mm\n",
    "ZCELL     = 13.                      # cell height in mm\n",
    "ZCHAMB    = 550.                     # spacing betweeen chambers in mm\n",
    "\n",
    "TDRIFT    = 15.6*DURATION['bx']    # drift time in ns\n",
    "VDRIFT    = XCELL*0.5 / TDRIFT     # drift velocity in mm/ns \n",
    "\n",
    "layer_z     = [  1,            3,            2,            4,         ]\n",
    "chanshift_x = [  0,            -1,           0,            -1,        ]\n",
    "pos_z       = [  ZCELL*3.5,    ZCELL*1.5,    ZCELL*2.5,    ZCELL*0.5, ]\n",
    "posshift_x  = [  0,            0,            0.5,          0.5,       ]"
   ]
  },
  {
   "cell_type": "code",
   "execution_count": 13,
   "metadata": {},
   "outputs": [],
   "source": [
    "# Create column TDRIFT\n",
    "hits = hits.withColumn('TDRIFT', \n",
    "                (hits['BX_COUNTER']-hits['T0'])*DURATION['bx'] + \n",
    "                 hits['TDC_MEAS']*DURATION['tdc']).drop('T0')\n",
    "\n",
    "# Find events\n",
    "events = hits.where((hits['TDRIFT']>TIME_WINDOW[0]) & (hits['TDRIFT']<TIME_WINDOW[1]))"
   ]
  },
  {
   "cell_type": "code",
   "execution_count": 14,
   "metadata": {},
   "outputs": [],
   "source": [
    "events = events.withColumn('X_POSSHIFT', \n",
    "                   when(col('TDC_CHANNEL') % 4 == 1, posshift_x[0])\n",
    "                  .when(col('TDC_CHANNEL') % 4 == 2, posshift_x[1])\n",
    "                  .when(col('TDC_CHANNEL') % 4 == 3, posshift_x[2])\n",
    "                  .when(col('TDC_CHANNEL') % 4 == 0, posshift_x[3])\n",
    "                  .otherwise(0.0)\n",
    "                 )"
   ]
  },
  {
   "cell_type": "code",
   "execution_count": 15,
   "metadata": {},
   "outputs": [],
   "source": [
    "events = events.withColumn('SL',\n",
    "                      when((col('FPGA') == 0) & (col('TDC_CHANNEL') <= NCHANNELS) , 0)\n",
    "                     .when((col('FPGA') == 0) & (col('TDC_CHANNEL') > NCHANNELS) & (col('TDC_CHANNEL') <= 2*NCHANNELS), 1)\n",
    "                     .when((col('FPGA') == 1) & (col('TDC_CHANNEL') <= NCHANNELS) , 2)\n",
    "                     .when((col('FPGA') == 1) & (col('TDC_CHANNEL') > NCHANNELS) & (col('TDC_CHANNEL') <= 2*NCHANNELS), 3) \n",
    "                     .otherwise(-1)\n",
    "                    )"
   ]
  },
  {
   "cell_type": "code",
   "execution_count": 16,
   "metadata": {},
   "outputs": [],
   "source": [
    "events = events.withColumn('TDC_CHANNEL_NORM', col('TDC_CHANNEL') - NCHANNELS*(col('SL')%2))"
   ]
  },
  {
   "cell_type": "code",
   "execution_count": 17,
   "metadata": {},
   "outputs": [],
   "source": [
    "events = events.withColumn('X_POS_LEFT', \n",
    "                  (((col('TDC_CHANNEL_NORM')-0.5)/4).cast('integer') + col('X_POSSHIFT'))*XCELL + \n",
    "                  XCELL/2 - greatest(col('TDRIFT'), lit(0))*VDRIFT)\n",
    "events = events.withColumn('X_POS_RIGHT', \n",
    "                  (((col('TDC_CHANNEL_NORM')-0.5)/4).cast('integer') + col('X_POSSHIFT'))*XCELL + \n",
    "                  XCELL/2 + greatest(col('TDRIFT'), lit(0))*VDRIFT)"
   ]
  },
  {
   "cell_type": "code",
   "execution_count": 18,
   "metadata": {},
   "outputs": [],
   "source": [
    "events = events.withColumn('Z_POS', \n",
    "                           when(col('TDC_CHANNEL') % 4 == 1, pos_z[0])\n",
    "                          .when(col('TDC_CHANNEL') % 4 == 2, pos_z[1])\n",
    "                          .when(col('TDC_CHANNEL') % 4 == 3, pos_z[2])\n",
    "                          .when(col('TDC_CHANNEL') % 4 == 0, pos_z[3])\n",
    "                          .otherwise(0.0)\n",
    "                          )"
   ]
  },
  {
   "cell_type": "code",
   "execution_count": 19,
   "metadata": {},
   "outputs": [
    {
     "name": "stdout",
     "output_type": "stream",
     "text": [
      "+---------+------------------+------------------+-----+------------------+\n",
      "|ORBIT_CNT|        X_POS_LEFT|       X_POS_RIGHT|Z_POS|            TDRIFT|\n",
      "+---------+------------------+------------------+-----+------------------+\n",
      "|673213665| 480.6666666666667| 485.3333333333333| 45.5|43.333333333333336|\n",
      "|673213665| 40.92307692307692| 43.07692307692308| 32.5|              20.0|\n",
      "|673213665| 9.467948717948717|32.532051282051285| 19.5|214.16666666666666|\n",
      "|673213665|31.769230769230766| 52.23076923076923|  6.5|             190.0|\n",
      "|673213665|493.85897435897436| 514.1410256410256| 32.5|188.33333333333334|\n",
      "|673213665|507.90384615384613| 542.0961538461538| 19.5|             317.5|\n",
      "|673213665| 45.63461538461539| 80.36538461538461| 45.5|             322.5|\n",
      "|673213665| 490.6730769230769| 517.3269230769231|  6.5|             247.5|\n",
      "+---------+------------------+------------------+-----+------------------+\n",
      "only showing top 8 rows\n",
      "\n"
     ]
    }
   ],
   "source": [
    "events.select('ORBIT_CNT', 'X_POS_LEFT', 'X_POS_RIGHT', 'Z_POS', 'TDRIFT').show(8)"
   ]
  }
 ],
 "metadata": {
  "kernelspec": {
   "display_name": "Python 3",
   "language": "python",
   "name": "python3"
  },
  "language_info": {
   "codemirror_mode": {
    "name": "ipython",
    "version": 3
   },
   "file_extension": ".py",
   "mimetype": "text/x-python",
   "name": "python",
   "nbconvert_exporter": "python",
   "pygments_lexer": "ipython3",
   "version": "3.7.3"
  }
 },
 "nbformat": 4,
 "nbformat_minor": 2
}
